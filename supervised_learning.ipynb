{
 "cells": [
  {
   "cell_type": "markdown",
   "metadata": {},
   "source": [
    "# Supervised Learning\n"
   ]
  },
  {
   "cell_type": "markdown",
   "metadata": {},
   "source": [
    "## Topics covered in this notebook:\n",
    "\n",
    "\n",
    "- [ ] Classification and Regression\n",
    "\n",
    "\n",
    "- [ ] Generalization, Overfitting, and Underfitting\n",
    "\n",
    "\n",
    "        Relation of Model Complexity and Dataset Size\n",
    "\n",
    "\n",
    "\n",
    "- [ ] Supervised Machine Learning Algorithms\n",
    "\n",
    "\n",
    "        k-Nearest Neighbors\n",
    "\n",
    "        Linear Models\n",
    "\n",
    "        Naive Bayes Classifiers\n",
    "\n",
    "        Decision Trees\n",
    "\n",
    "        Ensembles of Decision Trees\n",
    "\n",
    "        Kernelized Support Vector Machines\n",
    "\n",
    "        Neural Networks - Deep Learning\n",
    "\n",
    "\n",
    "\n",
    "- [ ] Uncertainty Estimates from Classifiers\n",
    "\n",
    "\n",
    "        The Decision Function\n",
    "        \n",
    "        Predicting Probabilities\n",
    "        \n",
    "        Uncertainty in Multiclass Classification\n",
    "\n",
    "\n",
    "- [ ] Summary\n",
    "\n",
    "\n",
    "<br>"
   ]
  },
  {
   "cell_type": "markdown",
   "metadata": {},
   "source": [
    "## Supervised Machine Learning\n",
    "\n",
    "`Supervised ML is used to predict values/outcomes`\n",
    "\n",
    "- Commonly used in industry\n",
    "- Easy to implement ml model\n",
    "\n",
    "__Overview__:\n",
    "We give a ml model data and tell it what the correct outputs are. There are two major types of supervised learning: `Classification` and `Regression`. Each has their own version of \"correct output\".\n",
    "\n",
    "### 1. Classification\n",
    "In Classification problems, the correct ouput represents a __`label`__. The label represents a group of observations that are similar.\n",
    "\n",
    "`In Plain English`\n",
    "\n",
    "- Is this a fruit or a vegetable?\n",
    "- Is this a Gala Apple or a Granny Smith Apple?\n",
    "- Is it raining or not raining?\n",
    "\n",
    "#### Types of questions we try to answer using Classification:\n",
    "\n",
    "`Binary Classification` - Exactly 2 classes/groups\n",
    "- Does this new observation belong to group 1 or group 2?\n",
    "- Is this email that says \"You've inherited a large sum of money from a Nigerian Prince respond ASAP to claim!!!!\" a spam email, or a legitimate email?\n",
    "- Churn or not churn?\n",
    "- _Yes or No type questions_\n",
    "\n",
    "`Multiclass Classification` - More than 2 classes/groups\n",
    "- Who are my customers? (age, sex, zip code, education, occupation, current salary) - Targeted Marketing Campaigns\n",
    "- Is this Iris a Setosa, Versicolour, or Virginica?\n",
    "\n",
    "#### _How_ does our do this? Magic -> Features of our dataset!\n",
    "\n",
    "Classification tasks use labeled targets. This means that for each record in a dataset, there is a label defining what the row of features means/is. \n",
    "\n",
    "Let's look at the Iris dataset's two seperate data frames.\n",
    "1. Feature data\n",
    "- There are 4 features [4 columns] for each Iris: Petal length/width and Sepal length/width.\n",
    "    > Using the number of features with the number of records [irises] we get the dimensions (150, 4) row x column.\n",
    "\n",
    "2. Target data\n",
    "- The target, what the record of features is called/labeled, is a single column with 3 distinct values 0, 1, 2. Each representing a species of Iris.\n",
    "    > We can't give the supervised ml model the actual label 'Setosa', because it doesn't \"understand\" what a Setosa is. We have to speak the model's language and translate it back to human language using our own encoding/decoding methods. In Classification, this is not difficult. A number is used to group records together into the same class. As in the Iris dataset: 0 = Setosas, 1 = Versicolours, 2= Virginicas. Each number groups together 50 observations. Hence the dimensions of the 'target' data (150,).\n",
    "\n",
    "\n",
    "Ex. Iris dataset - Features:[] - inputs, Species - output\n",
    "\n",
    "We want ml models to generalize and predict a 'target' when given records/observations outside of the training/validation/test datasets.\n",
    "\n",
    "Supervised machine learning requires data collection, cleaning, and wrangling. Once a dataset is prepared [data/target pair the supervised ml model trains on] then the supervised ml model can extract insight from the data."
   ]
  },
  {
   "cell_type": "code",
   "execution_count": 8,
   "metadata": {},
   "outputs": [],
   "source": [
    "import numpy as np\n",
    "import pandas as pd\n",
    "import matplotlib.pyplot as plt\n",
    "import seaborn as sns\n",
    "import sklearn"
   ]
  },
  {
   "cell_type": "markdown",
   "metadata": {},
   "source": [
    "\n",
    "\n",
    "Supervised Machine Learning using `sklearn`:\n",
    "\n",
    "Using a ml library like `scikit-learn`, we can split the data into groups for training/testing. [note: function to include validation set?]\n",
    "\n"
   ]
  }
 ],
 "metadata": {
  "kernelspec": {
   "display_name": "Python 3",
   "language": "python",
   "name": "python3"
  },
  "language_info": {
   "codemirror_mode": {
    "name": "ipython",
    "version": 3
   },
   "file_extension": ".py",
   "mimetype": "text/x-python",
   "name": "python",
   "nbconvert_exporter": "python",
   "pygments_lexer": "ipython3",
   "version": "3.7.6"
  }
 },
 "nbformat": 4,
 "nbformat_minor": 4
}
